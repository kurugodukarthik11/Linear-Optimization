{
 "cells": [
  {
   "cell_type": "code",
   "execution_count": 1,
   "id": "initial_id",
   "metadata": {
    "collapsed": true,
    "ExecuteTime": {
     "end_time": "2023-11-10T08:50:22.010865900Z",
     "start_time": "2023-11-10T08:50:21.859858400Z"
    }
   },
   "outputs": [],
   "source": [
    "import numpy as np"
   ]
  },
  {
   "cell_type": "code",
   "execution_count": 2,
   "outputs": [],
   "source": [
    "def simplex(A, B, C, X, M):\n",
    "    # (m,n) = M.shape\n",
    "    # A = M[2:,0:n-1]\n",
    "    # # print(A)\n",
    "    # B = M[2:,n-1]\n",
    "    # # print(B)\n",
    "    # C = M[1,0:n-1]\n",
    "    # # print(C)\n",
    "    # X = M[0,0:n-1]\n",
    "    # # print(X)\n",
    "    while True:\n",
    "        tgt = np.where(np.abs(A @ X - B) == 0)[0]\n",
    "        A_tgt = A[tgt]\n",
    "        utgt = np.where(np.abs(A @ X - B) != 0)[0]\n",
    "        A_utgt = A[utgt]\n",
    "        B_utgt = B[utgt]\n",
    "\n",
    "        Z = -(np.linalg.inv(A_tgt)).T\n",
    "        costs = Z @ C\n",
    "        positive_cost_directions = np.where(costs > 0)[0]\n",
    "\n",
    "        if len(positive_cost_directions) == 0:\n",
    "            print('Optimal Solution :', X)\n",
    "            print('Objective Value : ', C @ X)\n",
    "            return X\n",
    "\n",
    "        v = Z[positive_cost_directions[0]]\n",
    "\n",
    "        if len(np.where(np.dot(A, v) > 0)[0]) == 0:\n",
    "            print('Given LP is Unbounded')\n",
    "            return None\n",
    "\n",
    "        n = B_utgt - (A_utgt @ X)\n",
    "        d = A_utgt @ v\n",
    "        n = n[np.where(d > 0)[0]]\n",
    "        d = d[np.where(d > 0)[0]]\n",
    "        s = n / d\n",
    "        t = np.min(s[s >= 0])\n",
    "        X = X + t * v"
   ],
   "metadata": {
    "collapsed": false,
    "ExecuteTime": {
     "end_time": "2023-11-10T08:50:22.017950900Z",
     "start_time": "2023-11-10T08:50:22.012864900Z"
    }
   },
   "id": "a27fdd81c3cf537a"
  },
  {
   "cell_type": "code",
   "execution_count": 3,
   "outputs": [
    {
     "name": "stdout",
     "output_type": "stream",
     "text": [
      "Optimal Solution : [1. 4.]\n",
      "Objective Value :  22.0\n"
     ]
    },
    {
     "data": {
      "text/plain": "array([1., 4.])"
     },
     "execution_count": 3,
     "metadata": {},
     "output_type": "execute_result"
    }
   ],
   "source": [
    "A = np.array([[2, -1], [1, 2], [-1, 1], [-1, 0], [0, -1]])\n",
    "B = np.array([4, 9, 3, 0, 0])\n",
    "C = np.array([2, 5])\n",
    "X = np.array([2, 0])\n",
    "M = np.array([[2,0,0],[2,5,0],[2,-1, 4],[1,2,9],[-1,1,3],[-1,0,0],[0,-1,0]])\n",
    "simplex(A, B, C, X, M)"
   ],
   "metadata": {
    "collapsed": false,
    "ExecuteTime": {
     "end_time": "2023-11-10T08:50:22.026929500Z",
     "start_time": "2023-11-10T08:50:22.017950900Z"
    }
   },
   "id": "b234d273fa65575b"
  },
  {
   "cell_type": "code",
   "execution_count": 4,
   "outputs": [
    {
     "name": "stdout",
     "output_type": "stream",
     "text": [
      "Optimal Solution : [7. 3.]\n",
      "Objective Value :  43.0\n"
     ]
    },
    {
     "data": {
      "text/plain": "array([7., 3.])"
     },
     "execution_count": 4,
     "metadata": {},
     "output_type": "execute_result"
    }
   ],
   "source": [
    "A = np.array([[1, 1], [3, 7], [-1, 0], [0, -1]])\n",
    "B = np.array([10, 42, 0, 0])\n",
    "C = np.array([4, 5])\n",
    "X = np.array([10, 0])\n",
    "M = np.array([[10,0,0],[4,5,0],[1,1,10],[3,7,42],[-1,0,0],[0,-1,0]])\n",
    "simplex(A, B, C, X, M)"
   ],
   "metadata": {
    "collapsed": false,
    "ExecuteTime": {
     "end_time": "2023-11-10T08:50:22.128434400Z",
     "start_time": "2023-11-10T08:50:22.029930200Z"
    }
   },
   "id": "83a97a02ea28840"
  },
  {
   "cell_type": "code",
   "execution_count": 6,
   "outputs": [
    {
     "name": "stdout",
     "output_type": "stream",
     "text": [
      "Optimal Solution : [5.  0.  2.5]\n",
      "Objective Value :  15.0\n"
     ]
    },
    {
     "data": {
      "text/plain": "array([5. , 0. , 2.5])"
     },
     "execution_count": 6,
     "metadata": {},
     "output_type": "execute_result"
    }
   ],
   "source": [
    "A = np.array([[2, 1, 0], [1, 2, -2], [0, 1, 2], [-1, 0, 0], [0, -1, 0], [0, 0, -1]])\n",
    "B = np.array([10, 20, 5, 0, 0, 0])\n",
    "C = np.array([2, -1, 2])\n",
    "X = np.array([5, 0, 0])\n",
    "simplex(A, B, C, X, M)"
   ],
   "metadata": {
    "collapsed": false,
    "ExecuteTime": {
     "end_time": "2023-11-10T08:50:30.098015100Z",
     "start_time": "2023-11-10T08:50:30.090631300Z"
    }
   },
   "id": "96a8400ea96be7e4"
  },
  {
   "cell_type": "code",
   "execution_count": 7,
   "outputs": [
    {
     "name": "stdout",
     "output_type": "stream",
     "text": [
      "Given LP is Unbounded\n"
     ]
    }
   ],
   "source": [
    "A = np.array([[1, -1], [2, -1], [-1, 0], [0, -1]])\n",
    "B = np.array([10, 40, 0, 0])\n",
    "C = np.array([2, 1])\n",
    "X = np.array([10, 0])\n",
    "simplex(A, B, C, X, M)"
   ],
   "metadata": {
    "collapsed": false,
    "ExecuteTime": {
     "end_time": "2023-11-10T08:50:33.572692700Z",
     "start_time": "2023-11-10T08:50:33.569177100Z"
    }
   },
   "id": "74f1c680d4e97872"
  },
  {
   "cell_type": "code",
   "execution_count": null,
   "outputs": [],
   "source": [],
   "metadata": {
    "collapsed": false,
    "ExecuteTime": {
     "start_time": "2023-11-10T08:50:22.276321700Z"
    }
   },
   "id": "b43037d43bc0c14d"
  }
 ],
 "metadata": {
  "kernelspec": {
   "display_name": "Python 3",
   "language": "python",
   "name": "python3"
  },
  "language_info": {
   "codemirror_mode": {
    "name": "ipython",
    "version": 2
   },
   "file_extension": ".py",
   "mimetype": "text/x-python",
   "name": "python",
   "nbconvert_exporter": "python",
   "pygments_lexer": "ipython2",
   "version": "2.7.6"
  }
 },
 "nbformat": 4,
 "nbformat_minor": 5
}
