{
 "cells": [
  {
   "cell_type": "code",
   "execution_count": 1,
   "id": "initial_id",
   "metadata": {
    "collapsed": true,
    "ExecuteTime": {
     "end_time": "2023-10-31T17:57:24.799102300Z",
     "start_time": "2023-10-31T17:57:23.921223800Z"
    }
   },
   "outputs": [],
   "source": [
    "import numpy as np\n",
    "\n",
    "EPS = 1e-6"
   ]
  },
  {
   "cell_type": "code",
   "execution_count": 2,
   "outputs": [],
   "source": [
    "def get_direction(A, B, X):\n",
    "    # Find A'' = Matrix of n linearly independent rows\n",
    "    # which are satisfied by X with equality\n",
    "    equality_indices = np.where(np.abs(np.dot(A, X) - B) < EPS)[0]\n",
    "    A_bar = A[equality_indices]\n",
    "    # Find Z = Matrix having direction vectors as columns\n",
    "    Z = -np.linalg.inv(np.transpose(A_bar))\n",
    "    return Z"
   ],
   "metadata": {
    "collapsed": false,
    "ExecuteTime": {
     "end_time": "2023-10-31T17:57:24.810495Z",
     "start_time": "2023-10-31T17:57:24.801975100Z"
    }
   },
   "id": "6281f1bdfeaff036"
  },
  {
   "cell_type": "code",
   "execution_count": 3,
   "outputs": [],
   "source": [
    "def get_neighbour(A, B, C, X):\n",
    "    # Get direction vectors of vertex X\n",
    "    Z = get_direction(A, B, X)\n",
    "\n",
    "    # Find costs through these directions\n",
    "    costs = np.dot(Z, C)\n",
    "\n",
    "    # Find Directions with positive costs\n",
    "    positive_cost_directions = np.where(costs > 0)[0]\n",
    "\n",
    "    # If there are no more positive cost directions available\n",
    "    # the present vertex is optimal\n",
    "    if len(positive_cost_directions) == 0:\n",
    "        return None\n",
    "    else:\n",
    "        # Consider positive cost direction vector\n",
    "        v = Z[positive_cost_directions[0]]\n",
    "        # Find A'' = Matrix of rows other than satisfied by X with equality\n",
    "        # B'' = Corresponding B values of above rows\n",
    "        equality_indices = np.where(np.abs(np.dot(A, X)-B) < EPS)[0]\n",
    "        not_equality_indices = ~np.isin(np.arange(len(A)), equality_indices)\n",
    "        not_equal_A = A[not_equality_indices]\n",
    "        not_equal_B = B[not_equality_indices]\n",
    "        # Find maximum t in feasible neighbour(X + tv)\n",
    "        n = not_equal_B - np.dot(not_equal_A, X)\n",
    "        d = np.dot(not_equal_A, v)\n",
    "        n = n[np.where(d > 0)[0]]\n",
    "        d = d[np.where(d > 0)[0]]\n",
    "        s = n/d\n",
    "        t = np.min(s[s >= 0])\n",
    "        # Return the maximum feasible neighbour of X\n",
    "        return X + t*v"
   ],
   "metadata": {
    "collapsed": false,
    "ExecuteTime": {
     "end_time": "2023-10-31T17:57:24.819674900Z",
     "start_time": "2023-10-31T17:57:24.809490500Z"
    }
   },
   "id": "57b49a18f55bc0ba"
  },
  {
   "cell_type": "code",
   "execution_count": 4,
   "outputs": [],
   "source": [
    "def SimplexAlgorithm(A, B, C, X):\n",
    "    while True:\n",
    "        # Find neighbour with greater cost\n",
    "        V = get_neighbour(A, B, C, X)\n",
    "        # If the neighbour isn't available\n",
    "        # the present vertex is the optimal\n",
    "        # else move to neighbour\n",
    "        if V is None:\n",
    "            break\n",
    "        else:\n",
    "            X = V\n",
    "    return X"
   ],
   "metadata": {
    "collapsed": false,
    "ExecuteTime": {
     "end_time": "2023-10-31T17:57:24.819674900Z",
     "start_time": "2023-10-31T17:57:24.814660100Z"
    }
   },
   "id": "16031de3e601db58"
  },
  {
   "cell_type": "code",
   "execution_count": 5,
   "outputs": [
    {
     "name": "stdout",
     "output_type": "stream",
     "text": [
      "The Solution is : [1. 4.]\n",
      "The Maximum Value is:  22.0\n"
     ]
    }
   ],
   "source": [
    "# print('Enter C vector: ')\n",
    "# C = np.asarray(list(map(float, input().split('\\t'))))\n",
    "# \n",
    "# print('Enter B vector: ')\n",
    "# B = np.asarray(list(map(float, input().split('\\t'))))\n",
    "# \n",
    "# print('Enter A matrix: ')\n",
    "# A = []\n",
    "# for i in range(len(B)):\n",
    "#     A.append(np.asarray(list(map(float, input().split('\\t')))))\n",
    "# A = np.asarray(A)\n",
    "# \n",
    "# print('Enter Initial Feasible Point: ')\n",
    "# X = np.asarray(list(map(float, input().split('\\t'))))\n",
    "C = np.array([2,5])\n",
    "B = np.array([4,9,3,0,0])\n",
    "A = np.array([[2,-1],[1,2],[-1,1],[-1,0],[0,-1]])\n",
    "X = np.array([2,0])\n",
    "# Run Simplex Algorithm and find optimal solution\n",
    "X = SimplexAlgorithm(A, B, C, X)\n",
    "print('The Solution is :', X)\n",
    "print('The Maximum Value is: ', np.dot(C, X))"
   ],
   "metadata": {
    "collapsed": false,
    "ExecuteTime": {
     "end_time": "2023-10-31T17:57:24.905901800Z",
     "start_time": "2023-10-31T17:57:24.821674300Z"
    }
   },
   "id": "89d19a9671f3bfae"
  },
  {
   "cell_type": "code",
   "execution_count": null,
   "outputs": [],
   "source": [],
   "metadata": {
    "collapsed": false
   },
   "id": "910ca3147c4f4af3"
  }
 ],
 "metadata": {
  "kernelspec": {
   "display_name": "Python 3",
   "language": "python",
   "name": "python3"
  },
  "language_info": {
   "codemirror_mode": {
    "name": "ipython",
    "version": 2
   },
   "file_extension": ".py",
   "mimetype": "text/x-python",
   "name": "python",
   "nbconvert_exporter": "python",
   "pygments_lexer": "ipython2",
   "version": "2.7.6"
  }
 },
 "nbformat": 4,
 "nbformat_minor": 5
}
